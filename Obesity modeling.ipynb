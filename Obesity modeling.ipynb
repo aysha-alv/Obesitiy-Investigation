{
  "nbformat": 4,
  "nbformat_minor": 0,
  "metadata": {
    "colab": {
      "provenance": []
    },
    "kernelspec": {
      "name": "python3",
      "display_name": "Python 3"
    },
    "language_info": {
      "name": "python"
    }
  },
  "cells": [
    {
      "cell_type": "markdown",
      "source": [
        "**Does family history with overweight have an effect on the lifestyle habits of overweight individuals? Doe these individuals engage in healthier lifestyle choices when they have a history of overweight in the family?**"
      ],
      "metadata": {
        "id": "wyt7SkU8pZJl"
      }
    },
    {
      "cell_type": "markdown",
      "source": [
        "The question is investigated through the variable: family_history_with_overweight, a categorical with yes/no responses. \n",
        "\n",
        "The dataset is filtered to include only those in the overweight/obese category (by cleaning via. the NObeyesdad variable).\n",
        "\n",
        "The family_history_with_overweight will be investigated in relation to the variables: \n",
        "- FAF (Frequency of Physical Activity): float value 1-3. \n",
        "- FCVC (Frequency of consumption of vegetables): float value 1-3.\n",
        "- FAVC (Frequent consumption of high caloric food): previously yes/no, recoded to 1/0.\n",
        "- SCC (Monitor daily calories): previously yes/no, recoded to 1/0.\n",
        "\n",
        "- Created additive variable \"Sum\" which is a sum of the previous 4, on a scale from 0-8. This variable is used in the regression model. "
      ],
      "metadata": {
        "id": "qw6a0CHIjD_s"
      }
    },
    {
      "cell_type": "code",
      "execution_count": null,
      "metadata": {
        "id": "F1zpgeDpjOHA"
      },
      "outputs": [],
      "source": [
        "import pandas as pd\n",
        "import numpy as np"
      ]
    },
    {
      "cell_type": "code",
      "source": [
        "!pip install -U -q PyDrive\n",
        " \n",
        "from pydrive.auth import GoogleAuth\n",
        "from pydrive.drive import GoogleDrive\n",
        "from google.colab import auth\n",
        "from oauth2client.client import GoogleCredentials"
      ],
      "metadata": {
        "id": "DFtH5JygkAOT"
      },
      "execution_count": null,
      "outputs": []
    },
    {
      "cell_type": "code",
      "source": [
        "auth.authenticate_user()\n",
        "gauth = GoogleAuth()\n",
        "gauth.credentials = GoogleCredentials.get_application_default()\n",
        "drive = GoogleDrive(gauth)"
      ],
      "metadata": {
        "id": "2lpzCLQFkKKk"
      },
      "execution_count": null,
      "outputs": []
    },
    {
      "cell_type": "code",
      "source": [
        "link = 'https://drive.google.com/file/d/1owE21jzuj7VBDN-AsVgpH6W6GTL7N0Kp/view?usp=share_link'\n",
        "#splitting this to only keep the id part of the url\n",
        "id = link.split(\"/\")[-2]\n",
        "\n",
        "downloaded = drive.CreateFile({'id':id})\n",
        "downloaded.GetContentFile('ObesityDataSet_raw_and_data_sinthetic.csv')\n",
        "\n",
        "#at this point, you can name your dataframe whatever you want and use .head() to check out the first few rows\n",
        "obesity = pd.read_csv('ObesityDataSet_raw_and_data_sinthetic.csv')\n",
        "obesity.head()"
      ],
      "metadata": {
        "id": "P63zGIbFjYmn"
      },
      "execution_count": null,
      "outputs": []
    },
    {
      "cell_type": "code",
      "source": [
        "types ={'family_history_with_overweight': 'category', 'NObeyesdad': 'category', 'FCVC': 'float64'}\n",
        "\n",
        "obesity = obesity.astype(types)\n",
        "# changing datatypes of variables\n",
        "obesity.dtypes"
      ],
      "metadata": {
        "id": "Pu8Rca5RjhTZ"
      },
      "execution_count": null,
      "outputs": []
    },
    {
      "cell_type": "markdown",
      "source": [
        "Univariate Descriptive Statistics:"
      ],
      "metadata": {
        "id": "JI1n6A7H_UMj"
      }
    },
    {
      "cell_type": "code",
      "source": [
        "print(obesity['NObeyesdad'].value_counts())\n",
        "# getting counts of each weight group"
      ],
      "metadata": {
        "id": "idoM8AXG_vs1"
      },
      "execution_count": null,
      "outputs": []
    },
    {
      "cell_type": "code",
      "source": [
        "obesity['NObeyesdad'].value_counts().plot(kind='bar', title='Bar Graph for Weight Category', xlabel='Weight Category', ylabel='Frequency')\n",
        "# visualizing counts"
      ],
      "metadata": {
        "id": "qIFPzApBX3WP"
      },
      "execution_count": null,
      "outputs": []
    },
    {
      "cell_type": "markdown",
      "source": [
        "Useful to see the distribution of observations in each weight category to see if the sample is large enough to group by only the overweight groups. "
      ],
      "metadata": {
        "id": "Wuy57J_uXjOP"
      }
    },
    {
      "cell_type": "code",
      "source": [
        "obesity_filt = obesity.filter([\"NObeyesdad\", \"family_history_with_overweight\", \"FAVC\", \"FCVC\", \"SCC\", \"FAF\"], axis = 1)\n",
        "obesity_filt.head()\n",
        "# filtering to include just the variables of interest for the research question"
      ],
      "metadata": {
        "id": "5BqxM3bpjhfo"
      },
      "execution_count": null,
      "outputs": []
    },
    {
      "cell_type": "code",
      "source": [
        "# filter Nobeyesdad to only include obese 1, 2, 3 and overweight 1, 2 categories\n",
        "obobesity = obesity_filt.loc[(obesity_filt['NObeyesdad'] == \"Obesity_Type_I\") | (obesity_filt['NObeyesdad'] == \"Obesity_Type_II\") | (obesity_filt['NObeyesdad'] == \"Obesity_Type_III\") | (obesity_filt['NObeyesdad'] == \"Overweight_Level_I\") | (obesity_filt['NObeyesdad'] == \"Overweight_Level_II\")]\n",
        "\n",
        "obobesity.head()"
      ],
      "metadata": {
        "id": "ZV8cNTLZjzf-"
      },
      "execution_count": null,
      "outputs": []
    },
    {
      "cell_type": "code",
      "source": [
        "obobesity['FAVC'].replace(['yes', 'no'],\n",
        "                        [0.0, 1.0], inplace=True)\n",
        "\n",
        "obobesity.head()\n",
        "# changing variable coding to numerical values, to make it easier for building models later"
      ],
      "metadata": {
        "id": "ps09l1PkSGNT"
      },
      "execution_count": null,
      "outputs": []
    },
    {
      "cell_type": "code",
      "source": [
        "obobesity['SCC'].replace(['yes', 'no'],\n",
        "                        [1.0, 0.0], inplace=True)\n",
        "# changing variable coding to numerical values, to make it easier for building models later\n",
        "obobesity.head()"
      ],
      "metadata": {
        "id": "BIlsceEiTqzo"
      },
      "execution_count": null,
      "outputs": []
    },
    {
      "cell_type": "code",
      "source": [
        "obobesity.groupby(\"family_history_with_overweight\")[\"NObeyesdad\"].count()\n",
        "# checking for counts to see if normally distributed "
      ],
      "metadata": {
        "id": "wevw5LqJkY1r"
      },
      "execution_count": null,
      "outputs": []
    },
    {
      "cell_type": "markdown",
      "source": [
        "Since both groups have > 30 observations,  can assume normal distribution for both groups. \n",
        "\n",
        "The two groups are: \n",
        "overweight people with family history of overweight and overweight people with no family history of overweight. "
      ],
      "metadata": {
        "id": "Jpff8tTbRMpW"
      }
    },
    {
      "cell_type": "code",
      "source": [
        "obeswhist = obobesity.loc[(obobesity['family_history_with_overweight'] == \"yes\")]\n",
        "obeswhist"
      ],
      "metadata": {
        "id": "JhT2mKM_RfhP"
      },
      "execution_count": null,
      "outputs": []
    },
    {
      "cell_type": "code",
      "source": [
        "obenohist = obobesity.loc[(obobesity['family_history_with_overweight'] == \"no\")]\n",
        "obenohist"
      ],
      "metadata": {
        "id": "Q1O7jV7RSLJm"
      },
      "execution_count": null,
      "outputs": []
    },
    {
      "cell_type": "code",
      "source": [
        "obeswhist.describe()"
      ],
      "metadata": {
        "id": "tpSW3NaZpA71"
      },
      "execution_count": null,
      "outputs": []
    },
    {
      "cell_type": "code",
      "source": [
        "obenohist.describe()"
      ],
      "metadata": {
        "id": "B2L02aYtSadl"
      },
      "execution_count": null,
      "outputs": []
    },
    {
      "cell_type": "markdown",
      "source": [
        "Looking at these summary statistics, we can say that the group with no history of overweight has a lower mean of vegetable consumptio but a higher mean in physical activity frequency. So there are some healthy lifestyle habits that this group partakes in but not both validate the hypothesis. \n",
        "\n",
        "Similarly, the standard deviation is visibly different for physical activity in the 2 groups as it is higher in the no history group. \n",
        "This too is helpful in visualizing data but does not help in answering the question at hand about whether one group partakes in more healthy lifestyle habits than the other. "
      ],
      "metadata": {
        "id": "8ov-xX2KUK5m"
      }
    },
    {
      "cell_type": "code",
      "source": [
        "obeswhist.skew()"
      ],
      "metadata": {
        "id": "6dz25LknPNLz"
      },
      "execution_count": null,
      "outputs": []
    },
    {
      "cell_type": "code",
      "source": [
        "obenohist.skew()"
      ],
      "metadata": {
        "id": "Vi8WL0XPS0kC"
      },
      "execution_count": null,
      "outputs": []
    },
    {
      "cell_type": "markdown",
      "source": [
        "Looking at the two sets of .skew measures, it is evident that the quantitative healthy lifestyle variables (Frequency of consumption of vegetables, Physical activity frequency) differ based on family history with overweight. \n",
        "\n",
        "In the group with a history of obese, the curve is towards the left tail for vegetable consumptino and a little on the right for physical activity. While for the no history of overweight group, the vegetable consumption is much closer to the middle and the physical activity is towards the right. This already shows that the latter looks like they partake in healthier habits. "
      ],
      "metadata": {
        "id": "nEORetYJS8oJ"
      }
    },
    {
      "cell_type": "code",
      "source": [
        "obenohist[['FCVC','FAF', 'FCVC', 'SCC']].plot(kind='box')"
      ],
      "metadata": {
        "id": "_JjIxQgSV9MO"
      },
      "execution_count": null,
      "outputs": []
    },
    {
      "cell_type": "code",
      "source": [
        "obeswhist[['FCVC','FAF', 'FCVC', 'SCC']].plot(kind='box')"
      ],
      "metadata": {
        "id": "Qhi3H8IpWEvZ"
      },
      "execution_count": null,
      "outputs": []
    },
    {
      "cell_type": "markdown",
      "source": [
        "Looking at the box plots to see the spread of the data in the two groups. It does make sense that the with history group is more \"normally\" distributed with ranging quartile values - since the sample is much larger there. \n",
        "There are some outliers in the other grorup which will be worth exploring in later stages. "
      ],
      "metadata": {
        "id": "KA0ACGrlYHm4"
      }
    },
    {
      "cell_type": "code",
      "source": [
        "obeswhist.corr()"
      ],
      "metadata": {
        "id": "jXmf4NhTWP-A"
      },
      "execution_count": null,
      "outputs": []
    },
    {
      "cell_type": "code",
      "source": [
        "obenohist.corr()"
      ],
      "metadata": {
        "id": "PwFk730oW0EB"
      },
      "execution_count": null,
      "outputs": []
    },
    {
      "cell_type": "markdown",
      "source": [
        "Testing for correlations in variables, maybe those who work out often eat more vegetables. It does look like there is some relationship in that but since the value is higher in the no history with overweight group - it is not very useful (since we are seeing if those with a history of overweight are conscious about their lifestyle habits). "
      ],
      "metadata": {
        "id": "DzOaVIMGXIFr"
      }
    },
    {
      "cell_type": "code",
      "source": [
        "import matplotlib.pyplot as plt\n",
        "import numpy as np\n",
        "import seaborn as sns\n",
        "\n",
        "sns.set(style='white')\n",
        "\n",
        "sns.barplot(x='NObeyesdad', y='FCVC', data=obeswhist)\n",
        "plt.xticks(rotation=45)"
      ],
      "metadata": {
        "id": "ytnUzGlzH5Vs"
      },
      "execution_count": null,
      "outputs": []
    },
    {
      "cell_type": "code",
      "source": [
        "sns.set(style='white')\n",
        "\n",
        "sns.barplot(x='NObeyesdad', y='FCVC', data=obenohist)\n",
        "plt.xticks(rotation=45)"
      ],
      "metadata": {
        "id": "5CtKMqhqKHIy"
      },
      "execution_count": null,
      "outputs": []
    },
    {
      "cell_type": "code",
      "source": [
        "sns.set(style='white')\n",
        "\n",
        "sns.barplot(x='NObeyesdad', y='FCVC', hue='family_history_with_overweight', data=obobesity)\n",
        "plt.xticks(rotation=45)"
      ],
      "metadata": {
        "id": "bPMciQwoU0vP"
      },
      "execution_count": null,
      "outputs": []
    },
    {
      "cell_type": "markdown",
      "source": [
        "These bar graphs were actually really helpful in visualizing the data. I just found that the no obesity history category has no one in the obesity type 3 group - either because the sample is so small or because there is some relationship between having a history of obesity and being in this category. These bar plots could help with visualizing the counts of many of these numerical variables in seeing how they are distributed. From the one looking at the groups with the history of obesity, the highest group (obesity 3) consume the most vegetables. This condirms the hypothesis of them being more aware of their lifestyle habits, however, only this one statistic helps in answering the question so far. "
      ],
      "metadata": {
        "id": "QZ3YFtwVKjrw"
      }
    },
    {
      "cell_type": "markdown",
      "source": [
        "Looking at the EDA so far, all of it has been helpful in understanding what the data looks like - however, it could be useful to recode quantitative variables like FAVC and SCC to also have numerical values and add to the descriptive statistical analysis. This way, we could answer the question with not just the vegetable consumption and physical activity but also Frequent consumption of high caloric food and monitoring calories. This could all e done in the same quantitative way through a scaled transformation (like 1 being yes and 0 being no)."
      ],
      "metadata": {
        "id": "mCAVuvsLVOY2"
      }
    },
    {
      "cell_type": "code",
      "source": [
        "data_crosstab = pd.crosstab(obobesity['family_history_with_overweight'],\n",
        "                            obobesity['NObeyesdad'], \n",
        "                               margins = False)\n",
        "data_crosstab"
      ],
      "metadata": {
        "id": "Lb6sQIVBvknd"
      },
      "execution_count": null,
      "outputs": []
    },
    {
      "cell_type": "markdown",
      "source": [
        "is there a relationship between weight and whether there is a history of overweight in the family? "
      ],
      "metadata": {
        "id": "3NW6DAZZ0mlC"
      }
    },
    {
      "cell_type": "code",
      "source": [
        "from scipy.stats import chi2_contingency\n",
        "\n",
        "chisqresult = chi2_contingency(data_crosstab)\n",
        "\n",
        "chisqresult"
      ],
      "metadata": {
        "id": "qY-R2oA24Oti"
      },
      "execution_count": null,
      "outputs": []
    },
    {
      "cell_type": "markdown",
      "source": [
        "So far, it appears as though other variables that are coded as categorical should be included in this analysis. I got very little information from this EDA - although I do see positive correlations in variables showing that there are some relationships between eating vegetables and exercising - I did not see those differ significantly when comparing history with and without overweight. \n",
        "I do wonder if recoding the variables into 0's and 1's to have more quantitatives to work off of would be helpful. \n",
        "Simply using what is already quantitive could be a form of survivorship or omission bias since filtering the data and exploring it without them meant they were just not counted in answering the question. \n",
        "\n",
        "(This was the last 2 prompts combined)"
      ],
      "metadata": {
        "id": "XwNwRIEhYqrk"
      }
    },
    {
      "cell_type": "code",
      "source": [
        "obobesity['Sum'] = obobesity['FAVC'] + obobesity['FCVC'] + obobesity['SCC'] + obobesity['FAF']\n"
      ],
      "metadata": {
        "id": "6KiFkJpAOZyC"
      },
      "execution_count": null,
      "outputs": []
    },
    {
      "cell_type": "code",
      "source": [
        "obobesity.head()"
      ],
      "metadata": {
        "id": "ZEBX9F48VcwL"
      },
      "execution_count": null,
      "outputs": []
    },
    {
      "cell_type": "markdown",
      "source": [
        "Logistic Regression: \n",
        "\n",
        "y = family-history-with-overweight, bivariate categorical\n",
        "\n",
        "x (predictor) = Sum, categorical"
      ],
      "metadata": {
        "id": "8EfG1B0rVihD"
      }
    },
    {
      "cell_type": "code",
      "source": [
        "import statsmodels.api as sapi\n",
        "import statsmodels.stats.api as sms\n",
        "import statsmodels.stats.outliers_influence as st_inf\n",
        "from statsmodels.stats.outliers_influence import variance_inflation_factor\n",
        "import statsmodels.formula.api as smf\n",
        "import statsmodels.stats.multicomp as mc\n",
        "from statsmodels.stats.multicomp import pairwise_tukeyhsd\n",
        "from sklearn.metrics import classification_report\n",
        "import seaborn as sns\n",
        "import matplotlib.pyplot as plt\n",
        "import scipy.stats as stats\n",
        "import statsmodels.stats as statsmodstats"
      ],
      "metadata": {
        "id": "LP0OgN06F8AD"
      },
      "execution_count": null,
      "outputs": []
    },
    {
      "cell_type": "code",
      "source": [
        "logformula ='family_history_with_overweight ~ Sum'"
      ],
      "metadata": {
        "id": "0HDCMqEIXaX8"
      },
      "execution_count": null,
      "outputs": []
    },
    {
      "cell_type": "code",
      "source": [
        "obobesity.dtypes"
      ],
      "metadata": {
        "id": "IGfqKDN_JQ6S"
      },
      "execution_count": null,
      "outputs": []
    },
    {
      "cell_type": "code",
      "source": [
        "obobesity['family_history_with_overweight'].replace(['no', 'yes'],\n",
        "                        [0.0, 1.0], inplace=True)"
      ],
      "metadata": {
        "id": "Fgl-XgwBmQsv"
      },
      "execution_count": null,
      "outputs": []
    },
    {
      "cell_type": "code",
      "source": [
        "logmod = smf.logit(logformula, data=obobesity).fit()\n",
        "logmod.summary()"
      ],
      "metadata": {
        "id": "dO-PUAskKWKm"
      },
      "execution_count": null,
      "outputs": []
    },
    {
      "cell_type": "markdown",
      "source": [
        "Checking assumptions: "
      ],
      "metadata": {
        "id": "rRZAzd88mzZO"
      }
    },
    {
      "cell_type": "code",
      "source": [
        "# Checking appropriate outcome count, getting counts for each of the bivariate values\n",
        "obobesity['family_history_with_overweight'].value_counts()"
      ],
      "metadata": {
        "id": "JjIvEhnTmtL3"
      },
      "execution_count": null,
      "outputs": []
    },
    {
      "cell_type": "markdown",
      "source": [
        "2 categories in bivariate variable. Assumption is met."
      ],
      "metadata": {
        "id": "5MpZAUFg9McP"
      }
    },
    {
      "cell_type": "code",
      "source": [
        "# Checking independence. Generating residual series plot to check if variables rely on one another. \n",
        "\n",
        "fig = plt.figure(figsize=(8,5))\n",
        "ax = fig.add_subplot(111, title=\"Residual Series Plot\",\n",
        "                    xlabel=\"Index Number\", ylabel=\"Deviance Residuals\")\n",
        "ax.plot(obobesity['Sum'], logmod.resid_dev)\n",
        "plt.axhline(y=0, ls=\"--\", color='red');"
      ],
      "metadata": {
        "id": "RhZo1aCM9NM9"
      },
      "execution_count": null,
      "outputs": []
    },
    {
      "cell_type": "markdown",
      "source": [
        "Met, no patterns in the plot.\n",
        "\n",
        "Not concerned with VIF since only one predictor. "
      ],
      "metadata": {
        "id": "OEUa8jQJ9oXu"
      }
    },
    {
      "cell_type": "code",
      "source": [
        "# Checking linearity. Getting statistics for the deviance residuals.\n",
        "\n",
        "logmod.resid_dev.describe()"
      ],
      "metadata": {
        "id": "QlfjziWF9pBo"
      },
      "execution_count": null,
      "outputs": []
    },
    {
      "cell_type": "markdown",
      "source": [
        "No value > |3|. Met. "
      ],
      "metadata": {
        "id": "ePq0idpo96DE"
      }
    },
    {
      "cell_type": "code",
      "source": [
        "# Checking linearity of independent variables and log-odds. \n",
        "# Fitted values from the model (log odds or logit) plotted against the x variables.\n",
        "sns.regplot(obobesity['Sum'], logmod.fittedvalues)"
      ],
      "metadata": {
        "id": "h5P41sjv99gC"
      },
      "execution_count": null,
      "outputs": []
    },
    {
      "cell_type": "markdown",
      "source": [
        "Linear. Met.\n"
      ],
      "metadata": {
        "id": "YEKd28_1-nyZ"
      }
    },
    {
      "cell_type": "markdown",
      "source": [
        "Sufficient sample size assumption met looking at numbers from EDA. \n",
        "\n"
      ],
      "metadata": {
        "id": "Oir6oULQpBQT"
      }
    },
    {
      "cell_type": "markdown",
      "source": [
        "All assumptions met. Can continue to the summary and interpretation. "
      ],
      "metadata": {
        "id": "4aHOVUaEpLD5"
      }
    },
    {
      "cell_type": "code",
      "source": [
        "logmod.summary()"
      ],
      "metadata": {
        "id": "u7BW2O99-w7A"
      },
      "execution_count": null,
      "outputs": []
    },
    {
      "cell_type": "markdown",
      "source": [
        "**Model interpretation**\n",
        "\n",
        "Firstly, the p value in this model is < 0.05, this means that there is a significant enough effect in that we can reject the null hypothesis. So the summed lifestyle variable is an important predictor in family_history_with_overweight.\n",
        "\n",
        "For every unit change in Sum, there is a 0.233 decrease in there being a history of overweight in the family of the participant. \n",
        "\n",
        "With the pseudo R value at 0.0069, it is evidenct that the model is not a good fit for the data. A value > 0.2 would indicate a good fit, since the value of this model is around 0.007 - different models could be proposed to better fit the given data in the way it is compiled. "
      ],
      "metadata": {
        "id": "iHwVc0PdpoF2"
      }
    },
    {
      "cell_type": "markdown",
      "source": [
        "The LLR p-value is associated with a likelihood test, comparig 2 models, one which reflects the null hypothesis, and another reflecting the relationship between the 2 selected variables. \n",
        "\n",
        "In interpretting the p value here, is is > 0.05 so similar to the regular p value, we fail to reject the null. So the model is unlikely to create a meaningful representation of the data.\n",
        "\n",
        "\n",
        "The way you interpret the p-value is the same in the sense that you reject H0 if its less than the chosen threshold."
      ],
      "metadata": {
        "id": "Xahz1viC0hC1"
      }
    },
    {
      "cell_type": "markdown",
      "source": [
        "In more plain language, this particular model is not a great at predicting the relationship between family history with overweight and the SUm variable created using the 4 lifestyle choice indicators. \n",
        "There may still be a relationship for overweight individuals, if they have overweight relatives they may still be more (or less) conscious of their lifestyle choices - however, this summed variable and the model proposed is not the best way of showing this relationship. \n",
        "\n",
        "Perhaps it is the fault of the additive approach, in that the eating of vegetables, tracking of calories, physical activity, and consumption of high caloric foods are not interrelated. So a more accurate summed variable could be created - or all the variables could be investigated on their own. "
      ],
      "metadata": {
        "id": "qTVg7TTUEcOK"
      }
    }
  ]
}